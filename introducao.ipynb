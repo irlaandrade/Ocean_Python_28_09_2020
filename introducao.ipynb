{
  "nbformat": 4,
  "nbformat_minor": 0,
  "metadata": {
    "colab": {
      "name": "introducao.ipynb",
      "provenance": [],
      "collapsed_sections": [],
      "authorship_tag": "ABX9TyO4MItSX9ua+rdTdwdIWey4",
      "include_colab_link": true
    },
    "kernelspec": {
      "name": "python3",
      "display_name": "Python 3"
    }
  },
  "cells": [
    {
      "cell_type": "markdown",
      "metadata": {
        "id": "view-in-github",
        "colab_type": "text"
      },
      "source": [
        "<a href=\"https://colab.research.google.com/github/irlaandrade/Ocean_Python_28_09_2020/blob/master/introducao.ipynb\" target=\"_parent\"><img src=\"https://colab.research.google.com/assets/colab-badge.svg\" alt=\"Open In Colab\"/></a>"
      ]
    },
    {
      "cell_type": "code",
      "metadata": {
        "id": "Kl6M8cdguqdN",
        "outputId": "078de552-cb1b-4ea2-adb7-ba547de29945",
        "colab": {
          "base_uri": "https://localhost:8080/",
          "height": 34
        }
      },
      "source": [
        "print(\"Olá, mundo!\")"
      ],
      "execution_count": 1,
      "outputs": [
        {
          "output_type": "stream",
          "text": [
            "Olá, mundo!\n"
          ],
          "name": "stdout"
        }
      ]
    },
    {
      "cell_type": "code",
      "metadata": {
        "id": "CH41LCCo09yB"
      },
      "source": [
        "# Variáveis: armazenar informação na memória (RAM) para utilizar depois.\n",
        "\n",
        "variavel = 1"
      ],
      "execution_count": null,
      "outputs": []
    },
    {
      "cell_type": "code",
      "metadata": {
        "id": "F29HNLPN2TvI"
      },
      "source": [
        "variavel_string = \"Texto\"\n",
        "variavel_int = 1\n",
        "variavel_float = 1.23\n",
        "variavel_bool = True"
      ],
      "execution_count": 7,
      "outputs": []
    },
    {
      "cell_type": "code",
      "metadata": {
        "id": "ApMsw_8L3KfG",
        "outputId": "74e95d70-7427-4fa7-c6cd-4055a1276523",
        "colab": {
          "base_uri": "https://localhost:8080/",
          "height": 34
        }
      },
      "source": [
        "print(variavel_string)"
      ],
      "execution_count": 8,
      "outputs": [
        {
          "output_type": "stream",
          "text": [
            "Texto\n"
          ],
          "name": "stdout"
        }
      ]
    },
    {
      "cell_type": "code",
      "metadata": {
        "id": "8ford1qt5HHS",
        "outputId": "9a757080-a1a1-4661-8d47-86a656f31a27",
        "colab": {
          "base_uri": "https://localhost:8080/",
          "height": 34
        }
      },
      "source": [
        "adicao = 10 + 5\n",
        "subtracao = 10 - 5\n",
        "multiplicacao = 10 * 5\n",
        "divisao = 10 / 5\n",
        "exponenciacao = 2 ** 3\n",
        "\n",
        "divisao_inteira = 25 // 2\n",
        "\n",
        "# 25 / 2 -> 12.5\n",
        "# 25 // 2 -> 12\n",
        "# 25 / 2, apenas nos inteiros, dá 12 e sobra 1\n",
        "\n",
        "resto_divisao_inteira = 25 % 2\n",
        "\n",
        "print(resto_divisao_inteira)"
      ],
      "execution_count": 14,
      "outputs": [
        {
          "output_type": "stream",
          "text": [
            "1\n"
          ],
          "name": "stdout"
        }
      ]
    },
    {
      "cell_type": "markdown",
      "metadata": {
        "id": "JYNNvIGz9B0g"
      },
      "source": [
        "# **Exercício 1 - Praticando: Variáveis**\n",
        "\n",
        "\n",
        "\n",
        "*   Defina uma variável para o valor de uma refeição que custou R$ 42,54;\n",
        "*   Defina uma variável para o valor da taxa de serviço que é de 10%;\n",
        "*   Defina uma variável que calcula o valor total da conta (valor da refeição com a taxa de serviço adicional), fazendo o calculo com as duas variáveis anteriores;\n",
        "*   Exiba o resultado no console.\n",
        "\n",
        "\n"
      ]
    },
    {
      "cell_type": "code",
      "metadata": {
        "id": "LJfwl8Fz9pvQ",
        "outputId": "9628946d-71e3-4906-b44e-9c8805805372",
        "colab": {
          "base_uri": "https://localhost:8080/",
          "height": 34
        }
      },
      "source": [
        "refeicao = 42.54\n",
        "taxaServico = 10\n",
        "valor_total = refeicao + refeicao * taxaServico / 100\n",
        "\n",
        "print(\"Valor total: \", valor_total)"
      ],
      "execution_count": 19,
      "outputs": [
        {
          "output_type": "stream",
          "text": [
            "Valor total:  46.794\n"
          ],
          "name": "stdout"
        }
      ]
    },
    {
      "cell_type": "code",
      "metadata": {
        "id": "X8c8GgZx_5V2",
        "outputId": "c50f2b57-cd12-44be-8992-a7f263a42707",
        "colab": {
          "base_uri": "https://localhost:8080/",
          "height": 34
        }
      },
      "source": [
        "nome = \"Paulo\"\n",
        "sobrenome = \"Salvatore\"\n",
        "\n",
        "print(nome + \" \" + sobrenome) #União de duas informações na programação chama-se \"concatenação\""
      ],
      "execution_count": 21,
      "outputs": [
        {
          "output_type": "stream",
          "text": [
            "Paulo Salvatore\n"
          ],
          "name": "stdout"
        }
      ]
    },
    {
      "cell_type": "code",
      "metadata": {
        "id": "9mVNHoqgAcP1",
        "outputId": "3193bb7a-2297-4900-97df-fcfe3364dc8e",
        "colab": {
          "base_uri": "https://localhost:8080/",
          "height": 34
        }
      },
      "source": [
        "print(\"R$ \" + str(valor_total))"
      ],
      "execution_count": 23,
      "outputs": [
        {
          "output_type": "stream",
          "text": [
            "R$ 46.794\n"
          ],
          "name": "stdout"
        }
      ]
    },
    {
      "cell_type": "code",
      "metadata": {
        "id": "k5EIsgXeA-rk",
        "outputId": "3a7e1265-1e51-4f6e-9857-275f76032e9a",
        "colab": {
          "base_uri": "https://localhost:8080/",
          "height": 34
        }
      },
      "source": [
        "primeira_letra = nome[0]\n",
        "ultima_letra = sobrenome[0]\n",
        "\n",
        "print(primeira_letra + ultima_letra)"
      ],
      "execution_count": 24,
      "outputs": [
        {
          "output_type": "stream",
          "text": [
            "PS\n"
          ],
          "name": "stdout"
        }
      ]
    },
    {
      "cell_type": "code",
      "metadata": {
        "id": "kIKlTZLQBSdn",
        "outputId": "c3fc985e-c3c6-44f5-b12e-52e828d26d76",
        "colab": {
          "base_uri": "https://localhost:8080/",
          "height": 51
        }
      },
      "source": [
        "print(f\"O valor total da compra é de R$ {valor_total:.2f}\")\n",
        "\n",
        "print(f\"Número: {5:010}\") # Leading zeros\n",
        "# Antigamente: print(\"R$ {:.2f}\".format(valor_total))"
      ],
      "execution_count": 32,
      "outputs": [
        {
          "output_type": "stream",
          "text": [
            "O valor total da compra é de R$ 46.79\n",
            "Número: 0000000005\n"
          ],
          "name": "stdout"
        }
      ]
    }
  ]
}