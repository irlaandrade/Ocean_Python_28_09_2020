{
  "nbformat": 4,
  "nbformat_minor": 0,
  "metadata": {
    "colab": {
      "name": "introducao.ipynb",
      "provenance": [],
      "collapsed_sections": [],
      "authorship_tag": "ABX9TyNd7Au23KCu3C932+XMItqC",
      "include_colab_link": true
    },
    "kernelspec": {
      "name": "python3",
      "display_name": "Python 3"
    }
  },
  "cells": [
    {
      "cell_type": "markdown",
      "metadata": {
        "id": "view-in-github",
        "colab_type": "text"
      },
      "source": [
        "<a href=\"https://colab.research.google.com/github/irlaandrade/Ocean_Python_28_09_2020/blob/master/introducao.ipynb\" target=\"_parent\"><img src=\"https://colab.research.google.com/assets/colab-badge.svg\" alt=\"Open In Colab\"/></a>"
      ]
    },
    {
      "cell_type": "code",
      "metadata": {
        "id": "Kl6M8cdguqdN",
        "outputId": "078de552-cb1b-4ea2-adb7-ba547de29945",
        "colab": {
          "base_uri": "https://localhost:8080/",
          "height": 34
        }
      },
      "source": [
        "print(\"Olá, mundo!\")"
      ],
      "execution_count": 1,
      "outputs": [
        {
          "output_type": "stream",
          "text": [
            "Olá, mundo!\n"
          ],
          "name": "stdout"
        }
      ]
    },
    {
      "cell_type": "code",
      "metadata": {
        "id": "CH41LCCo09yB"
      },
      "source": [
        "# Variáveis: armazenar informação na memória (RAM) para utilizar depois.\n",
        "\n",
        "variavel = 1"
      ],
      "execution_count": null,
      "outputs": []
    },
    {
      "cell_type": "code",
      "metadata": {
        "id": "F29HNLPN2TvI"
      },
      "source": [
        "variavel_string = \"Texto\"\n",
        "variavel_int = 1\n",
        "variavel_float = 1.23\n",
        "variavel_bool = True"
      ],
      "execution_count": 7,
      "outputs": []
    },
    {
      "cell_type": "code",
      "metadata": {
        "id": "ApMsw_8L3KfG",
        "outputId": "74e95d70-7427-4fa7-c6cd-4055a1276523",
        "colab": {
          "base_uri": "https://localhost:8080/",
          "height": 34
        }
      },
      "source": [
        "print(variavel_string)"
      ],
      "execution_count": 8,
      "outputs": [
        {
          "output_type": "stream",
          "text": [
            "Texto\n"
          ],
          "name": "stdout"
        }
      ]
    },
    {
      "cell_type": "code",
      "metadata": {
        "id": "8ford1qt5HHS",
        "outputId": "9a757080-a1a1-4661-8d47-86a656f31a27",
        "colab": {
          "base_uri": "https://localhost:8080/",
          "height": 34
        }
      },
      "source": [
        "adicao = 10 + 5\n",
        "subtracao = 10 - 5\n",
        "multiplicacao = 10 * 5\n",
        "divisao = 10 / 5\n",
        "exponenciacao = 2 ** 3\n",
        "\n",
        "divisao_inteira = 25 // 2\n",
        "\n",
        "# 25 / 2 -> 12.5\n",
        "# 25 // 2 -> 12\n",
        "# 25 / 2, apenas nos inteiros, dá 12 e sobra 1\n",
        "\n",
        "resto_divisao_inteira = 25 % 2\n",
        "\n",
        "print(resto_divisao_inteira)"
      ],
      "execution_count": 14,
      "outputs": [
        {
          "output_type": "stream",
          "text": [
            "1\n"
          ],
          "name": "stdout"
        }
      ]
    },
    {
      "cell_type": "markdown",
      "metadata": {
        "id": "JYNNvIGz9B0g"
      },
      "source": [
        "# **Exercício 1 - Praticando: Variáveis**\n",
        "\n",
        "\n",
        "\n",
        "*   Defina uma variável para o valor de uma refeição que custou R$ 42,54;\n",
        "*   Defina uma variável para o valor da taxa de serviço que é de 10%;\n",
        "*   Defina uma variável que calcula o valor total da conta (valor da refeição com a taxa de serviço adicional), fazendo o calculo com as duas variáveis anteriores;\n",
        "*   Exiba o resultado no console.\n",
        "\n",
        "\n"
      ]
    },
    {
      "cell_type": "code",
      "metadata": {
        "id": "LJfwl8Fz9pvQ",
        "outputId": "9628946d-71e3-4906-b44e-9c8805805372",
        "colab": {
          "base_uri": "https://localhost:8080/",
          "height": 34
        }
      },
      "source": [
        "refeicao = 42.54\n",
        "taxaServico = 10\n",
        "valor_total = refeicao + refeicao * taxaServico / 100\n",
        "\n",
        "print(\"Valor total: \", valor_total)"
      ],
      "execution_count": 19,
      "outputs": [
        {
          "output_type": "stream",
          "text": [
            "Valor total:  46.794\n"
          ],
          "name": "stdout"
        }
      ]
    },
    {
      "cell_type": "code",
      "metadata": {
        "id": "X8c8GgZx_5V2",
        "outputId": "c50f2b57-cd12-44be-8992-a7f263a42707",
        "colab": {
          "base_uri": "https://localhost:8080/",
          "height": 34
        }
      },
      "source": [
        "nome = \"Paulo\"\n",
        "sobrenome = \"Salvatore\"\n",
        "\n",
        "print(nome + \" \" + sobrenome) #União de duas informações na programação chama-se \"concatenação\""
      ],
      "execution_count": 21,
      "outputs": [
        {
          "output_type": "stream",
          "text": [
            "Paulo Salvatore\n"
          ],
          "name": "stdout"
        }
      ]
    },
    {
      "cell_type": "code",
      "metadata": {
        "id": "9mVNHoqgAcP1",
        "outputId": "3193bb7a-2297-4900-97df-fcfe3364dc8e",
        "colab": {
          "base_uri": "https://localhost:8080/",
          "height": 34
        }
      },
      "source": [
        "print(\"R$ \" + str(valor_total))"
      ],
      "execution_count": 23,
      "outputs": [
        {
          "output_type": "stream",
          "text": [
            "R$ 46.794\n"
          ],
          "name": "stdout"
        }
      ]
    },
    {
      "cell_type": "code",
      "metadata": {
        "id": "k5EIsgXeA-rk",
        "outputId": "3a7e1265-1e51-4f6e-9857-275f76032e9a",
        "colab": {
          "base_uri": "https://localhost:8080/",
          "height": 34
        }
      },
      "source": [
        "primeira_letra = nome[0]\n",
        "ultima_letra = sobrenome[0]\n",
        "\n",
        "print(primeira_letra + ultima_letra)"
      ],
      "execution_count": 24,
      "outputs": [
        {
          "output_type": "stream",
          "text": [
            "PS\n"
          ],
          "name": "stdout"
        }
      ]
    },
    {
      "cell_type": "code",
      "metadata": {
        "id": "kIKlTZLQBSdn",
        "outputId": "c3fc985e-c3c6-44f5-b12e-52e828d26d76",
        "colab": {
          "base_uri": "https://localhost:8080/",
          "height": 51
        }
      },
      "source": [
        "print(f\"O valor total da compra é de R$ {valor_total:.2f}\")\n",
        "\n",
        "print(f\"Número: {5:02}\") # Zeros na frente\n",
        "# Antigamente: print(\"R$ {:.2f}\".format(valor_total))"
      ],
      "execution_count": 32,
      "outputs": [
        {
          "output_type": "stream",
          "text": [
            "O valor total da compra é de R$ 46.79\n",
            "Número: 0000000005\n"
          ],
          "name": "stdout"
        }
      ]
    },
    {
      "cell_type": "code",
      "metadata": {
        "id": "MrRxp8g4FtgC",
        "outputId": "8777d668-39ac-4ffc-bfcf-25ed88880334",
        "colab": {
          "base_uri": "https://localhost:8080/",
          "height": 85
        }
      },
      "source": [
        "print(nome)\n",
        "print(len(nome)) # Quantidade de caracteres\n",
        "print(nome.lower()) # Transforma o texto para tudo em minúsculo\n",
        "print(nome.upper()) # Transforma o texto para tudo em maiúsculo"
      ],
      "execution_count": 34,
      "outputs": [
        {
          "output_type": "stream",
          "text": [
            "Paulo\n",
            "5\n",
            "paulo\n",
            "PAULO\n"
          ],
          "name": "stdout"
        }
      ]
    },
    {
      "cell_type": "code",
      "metadata": {
        "id": "AHpu8mljHOWA",
        "outputId": "9b3b1e2a-8c49-41fd-df12-5ed743d63d19",
        "colab": {
          "base_uri": "https://localhost:8080/",
          "height": 51
        }
      },
      "source": [
        "nome = \"paulo\"\n",
        "sobrenome = \"salvatore\"\n",
        "\n",
        "print(f\"{nome.upper()} {sobrenome.upper()}\")\n",
        "print(f\"{nome.capitalize()} {sobrenome.capitalize()}\")"
      ],
      "execution_count": 37,
      "outputs": [
        {
          "output_type": "stream",
          "text": [
            "PAULO SALVATORE\n",
            "Paulo Salvatore\n"
          ],
          "name": "stdout"
        }
      ]
    },
    {
      "cell_type": "code",
      "metadata": {
        "id": "7cidAmZeH4rn",
        "outputId": "923abf6a-69c1-4141-9877-ae98405a8607",
        "colab": {
          "base_uri": "https://localhost:8080/",
          "height": 102
        }
      },
      "source": [
        "nome = input(\"Digite o seu nome:\\n\")\n",
        "sobrenome = input(\"Digite o seu sobrenome:\\n\")\n",
        "\n",
        "print(f\"Seu nome é {nome.capitalize()} {sobrenome.capitalize()}\")"
      ],
      "execution_count": 39,
      "outputs": [
        {
          "output_type": "stream",
          "text": [
            "Digite o seu nome:\n",
            "Irla\n",
            "Digite o seu sobrenome:\n",
            "Andrade\n",
            "Seu nome é Irla Andrade\n"
          ],
          "name": "stdout"
        }
      ]
    },
    {
      "cell_type": "markdown",
      "metadata": {
        "id": "Ljfjg7QcKCd1"
      },
      "source": [
        "# **Exercício 2**\n",
        "Nome: Input de Informações\n",
        "Objetivo: Receber dados do usuário, trabalhar com os valores e exibir para o usuário.\n",
        "Dificuldade: Principiante\n",
        "\n",
        "1 - Crie um programa que receba do usuário seu nome, idade e gênero;\n",
        "2 - Exiba na tela seguinte mensagem: \"Olá, {nome}, você possui {idade} anos de idade e é do gênero {genero}. Já pensou no que você fará no seu aniversário de {idade + 1} anos?\"."
      ]
    },
    {
      "cell_type": "code",
      "metadata": {
        "id": "b4rG-eAGKTNd",
        "outputId": "802086b3-058d-4f88-f80a-97fbd5a9c77e",
        "colab": {
          "base_uri": "https://localhost:8080/",
          "height": 153
        }
      },
      "source": [
        "nome = input(\"Digite seu nome:\\n\").capitalize()\n",
        "idade = int(input(\"Digite sua idade:\\n\"))\n",
        "genero = input(\"Digite seu gênero:\\n\").capitalize()\n",
        "\n",
        "print(f\"Olá, {nome}, você possui {idade} anos de idade e é do gênero {genero}.\\nJá pensou no que você fará no seu aniversário de {idade + 1} anos?\")"
      ],
      "execution_count": 46,
      "outputs": [
        {
          "output_type": "stream",
          "text": [
            "Digite seu nome:\n",
            "irla\n",
            "Digite sua idade:\n",
            "27\n",
            "Digite seu gênero:\n",
            "feminino\n",
            "Olá, Irla, você possui 27 anos de idade e é do gênero Feminino.\n",
            "Já pensou no que você fará no seu aniversário de 28 anos?\n"
          ],
          "name": "stdout"
        }
      ]
    },
    {
      "cell_type": "code",
      "metadata": {
        "id": "pGM4omYKQPyE"
      },
      "source": [
        "# Bibliotecas built-in disponíveis no colab jupyter (sem precisar instalar)\n",
        "!pip freeze"
      ],
      "execution_count": null,
      "outputs": []
    },
    {
      "cell_type": "code",
      "metadata": {
        "id": "H2ttKtidMeYH",
        "outputId": "0b5792c6-197c-4915-a340-c1e253301f3b",
        "colab": {
          "base_uri": "https://localhost:8080/",
          "height": 34
        }
      },
      "source": [
        "# Importando bibliotecas\n",
        "# Algumas são bibliotecas built-in, ou seja, já vem junto com o python\n",
        "\n",
        "# import datetime # Importa a biblioteca datetime inteira\n",
        "# import datetime as dt #Importa a biblioteca inteira e muda o nome dela para dt\n",
        "\n",
        "\"\"\"\n",
        "Dentro da biblioteca datetime, importa uma outra declaração também chamada 'datetime',\n",
        "que apesar do nome ser o mesmo, é diferente.\n",
        "Depois, nomeia esse segundo 'datetime' importado como 'dt'\n",
        "\"\"\"\n",
        "from datetime import datetime as dt\n",
        "\n",
        "agora = dt.now() # Pega a data e hora atual do sistema (atenção com o fuso horário, porque é o fuso da máquina!) \n",
        "\n",
        "print(agora)"
      ],
      "execution_count": 50,
      "outputs": [
        {
          "output_type": "stream",
          "text": [
            "2020-09-28 19:45:32.780334\n"
          ],
          "name": "stdout"
        }
      ]
    },
    {
      "cell_type": "code",
      "metadata": {
        "id": "0MDgjVVwP4YO",
        "outputId": "c0563e7e-f4f2-49fa-ef95-b0f72ba68a87",
        "colab": {
          "base_uri": "https://localhost:8080/",
          "height": 34
        }
      },
      "source": [
        "ano_atual = agora.year\n",
        "mes_atual = agora.month\n",
        "dia_atual = agora.day\n",
        "\n",
        "print(f\"{dia_atual}/{mes_atual:02}/{ano_atual:04}\")"
      ],
      "execution_count": 51,
      "outputs": [
        {
          "output_type": "stream",
          "text": [
            "28/09/2020\n"
          ],
          "name": "stdout"
        }
      ]
    },
    {
      "cell_type": "code",
      "metadata": {
        "id": "8ZszasuTRPjK"
      },
      "source": [
        "\"\"\"\n",
        "# Exercício 3\n",
        "\n",
        "Utilize a declaração do bloco anterior e adicione também o horário atual, utilizando a formatação: `hh:mm:ss`.\n",
        "\n",
        "No final, exibirá:\n",
        "\n",
        "28/09/2020 - 16h49m20s\n",
        "\"\"\""
      ],
      "execution_count": null,
      "outputs": []
    },
    {
      "cell_type": "code",
      "metadata": {
        "id": "Ab9_xkeeRWsz",
        "outputId": "4f916111-9f66-4166-da70-59a3a98b7b8e",
        "colab": {
          "base_uri": "https://localhost:8080/",
          "height": 34
        }
      },
      "source": [
        "from datetime import datetime as dt\n",
        "\n",
        "agora = dt.now()\n",
        "\n",
        "ano_atual = agora.year\n",
        "mes_atual = agora.month\n",
        "dia_atual = agora.day\n",
        "\n",
        "hora_atual = agora.hour\n",
        "minuto_atual = agora.minute\n",
        "segundo_atual = agora.second\n",
        "\n",
        "exibicao_data = f\"{dia_atual}/{mes_atual:02}/{ano_atual:04} - {hora_atual:02}h{minuto_atual:02}m{segundo_atual:02}s\"\n",
        "\n",
        "print(exibicao_data)"
      ],
      "execution_count": 52,
      "outputs": [
        {
          "output_type": "stream",
          "text": [
            "28/09/2020 - 19h54m56s\n"
          ],
          "name": "stdout"
        }
      ]
    }
  ]
}